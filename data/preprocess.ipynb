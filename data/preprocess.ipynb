{
 "cells": [
  {
   "cell_type": "code",
   "execution_count": 1,
   "metadata": {},
   "outputs": [],
   "source": [
    "import numpy as np\n",
    "import pandas as pd\n",
    "import re"
   ]
  },
  {
   "cell_type": "code",
   "execution_count": 2,
   "metadata": {},
   "outputs": [],
   "source": [
    "df = pd.read_csv('wfp_market_food_prices.zip', encoding='ISO-8859-1')"
   ]
  },
  {
   "cell_type": "markdown",
   "metadata": {},
   "source": [
    "## Data Cleaning"
   ]
  },
  {
   "cell_type": "code",
   "execution_count": 3,
   "metadata": {},
   "outputs": [],
   "source": [
    "# Rename columns to something sensible\n",
    "df = df.rename(\n",
    "    {\n",
    "        'adm0_id': 'country_id',\n",
    "        'adm0_name': 'country_name',\n",
    "        'adm1_id': 'locality_id',\n",
    "        'adm1_name': 'locality_name',\n",
    "        'mkt_id': 'market_id',\n",
    "        'mkt_name': 'market_name',\n",
    "        'cm_id': 'commodity_id',\n",
    "        'cm_name': 'commodity_name',\n",
    "        'cur_id': 'currency_id',\n",
    "        'cur_name': 'currency_name',\n",
    "        'pt_id': 'market_type_id',\n",
    "        'pt_name': 'market_type',\n",
    "        'um_id': 'measurement_id',\n",
    "        'um_name': 'unit_of_goods_measurement',\n",
    "        'mp_price': 'price',\n",
    "        'mp_month': 'month_recorded',\n",
    "        'mp_year': 'year_recorded',\n",
    "        'mp_commoditysource': 'source'\n",
    "    },\n",
    "    axis='columns')\n",
    "\n",
    "useless_columns = ['country_id', 'locality_id', 'market_id', 'commodity_id',\n",
    "                   'currency_id', 'market_type_id', 'measurement_id', 'source']\n",
    "df = df.drop(useless_columns, axis=1)"
   ]
  },
  {
   "cell_type": "code",
   "execution_count": 4,
   "metadata": {
    "scrolled": false
   },
   "outputs": [],
   "source": [
    "# For a given country, locality, market and commodity, only keep the most recent recording of price\n",
    "# Since the data is sorted to begin with, we only need to keep the last entry\n",
    "df = df.groupby(['country_name', 'locality_name', 'market_name', 'commodity_name']).last().reset_index()\n",
    "df = df.drop(['month_recorded', 'year_recorded'], axis=1)"
   ]
  },
  {
   "cell_type": "code",
   "execution_count": 5,
   "metadata": {},
   "outputs": [],
   "source": [
    "# Remove all parentheses, which merely differentiate between the different kinds of food\n",
    "# i.e. imported or not, method of cooking, etc.\n",
    "df.commodity_name = df.commodity_name.apply(lambda s: re.sub('\\(.*\\)', '', s).strip())"
   ]
  },
  {
   "cell_type": "code",
   "execution_count": 6,
   "metadata": {},
   "outputs": [],
   "source": [
    "# Remove things that are not foods\n",
    "non_foods = ['Exchange rate', 'Fuel', 'Wage', 'Charcoal', 'Oil', 'Transport', 'Cotton']\n",
    "df = df[~df.loc[:, 'commodity_name'].isin(non_foods)]"
   ]
  },
  {
   "cell_type": "code",
   "execution_count": 7,
   "metadata": {},
   "outputs": [],
   "source": [
    "# Remove duplicates\n",
    "df = df.drop_duplicates(subset=['country_name', 'locality_name', 'market_name', 'commodity_name'])"
   ]
  },
  {
   "cell_type": "code",
   "execution_count": 8,
   "metadata": {},
   "outputs": [],
   "source": [
    "# Renumber rows\n",
    "df = df.reset_index(drop=True)"
   ]
  },
  {
   "cell_type": "code",
   "execution_count": 9,
   "metadata": {},
   "outputs": [],
   "source": [
    "df.to_csv('pricing.csv')"
   ]
  },
  {
   "cell_type": "code",
   "execution_count": 10,
   "metadata": {},
   "outputs": [
    {
     "data": {
      "text/plain": [
       "array(['Livestock', 'Bread', 'Cheese', 'Eggs', 'Fish', 'Milk', 'Pasta',\n",
       "       'Tea', 'Potatoes', 'Noodles', 'Rice', 'Sugar', 'Beans',\n",
       "       'Groundnuts', 'Maize', 'Onions', 'Sorghum', 'Cassava', 'Peas',\n",
       "       'Sesame', 'Soybeans', 'Cocoa', 'Coffee', 'Wheat', 'Millet',\n",
       "       'Apples', 'Bananas', 'Cabbage', 'Carrots', 'Cashew', 'Fonio',\n",
       "       'Garlic', 'Maize flour', 'Meat', 'Oranges', 'Salt',\n",
       "       'Sweet potatoes', 'Tomatoes', 'Wheat flour', 'Plantains', 'Yam',\n",
       "       'Maize meal', 'Lettuce', 'Cowpeas', 'Gari', 'Avocados', 'Labaneh',\n",
       "       'Water', 'Yogurt', 'Parsley', 'Sour cream'], dtype=object)"
      ]
     },
     "execution_count": 10,
     "metadata": {},
     "output_type": "execute_result"
    }
   ],
   "source": [
    "# FIXME there are some commodities that aren't bought by the kg...\n",
    "# but our nutrition data is per kg!\n",
    "df[df.unit_of_goods_measurement != 'KG'].commodity_name.unique()"
   ]
  },
  {
   "cell_type": "markdown",
   "metadata": {},
   "source": [
    "## Adding Nutrition Data\n",
    "\n",
    "All lovingly added by hand from [the USDA databases](https://ndb.nal.usda.gov/ndb/search/list)."
   ]
  },
  {
   "cell_type": "code",
   "execution_count": 11,
   "metadata": {},
   "outputs": [],
   "source": [
    "# Protein (g), Fat (g), Carb. (g), Fiber (g)\n",
    "\n",
    "nutrition_dict = {\n",
    "    'Bread': [10.67, 4.53, 47.54, 4.0],  # Wheat bread\n",
    "    'Rice': [3.99, 0.34, 21.34, 1.8],  # Wild rice, cookied\n",
    "    'Wheat': [7.49, 1.27, 42.53, 1.1],  # Wheat, sprouted\n",
    "    'Livestock': [17.44, 8.10, 0.04, 0.0],  # Chicken\n",
    "    'Apples': [0.93, 0.32, 65.89, 8.7],  # Apples, dried, sulfured, uncooked \n",
    "    'Bananas': [3.89, 1.81, 88.28, 9.9],  # Bananas, dehydrated, or banana powder\n",
    "    'Beans': [1.80, 3.20, 2.80, 0.1],  # Beans, liquid from stewed kidney beans\n",
    "    'Carrots': [0.93, 0.24, 9.58, 2.8],  # Carrots, raw \n",
    "    'Cheese': [26.96, 30.99, 1.44, 0.0],  # Cheese, swiss \n",
    "    'Eggs': [48.05, 43.90, 1.13, 0.0],  # Egg, whole, dried \n",
    "    'Fish': [20.42, 0.25, 0.00, 0.0],  # Fish, cod, Pacific, cooked \n",
    "    'Lentils': [24.63, 1.06, 63.35, 10.7],  # Lentils, raw\n",
    "    'Meat': [18.17, 18.98, 0.47, 0.0],  # Beef, cured, corned beef, brisket, cooked \n",
    "    'Milk': [45.71, 17.14, 18.50, 7.1], # Protein supplement, milk based, Muscle Milk, powder\n",
    "    'Onions': [1.10, 0.10, 9.34, 1.7],  # Onions, raw \n",
    "    'Pasta': [14.29, 1.79, 73.21, 8.9],  # SEVERINO, HOMEMADE PASTA, WAGON WHEELS PASTA, UPC: 029737022239 \n",
    "    'Potatoes': [2.57, 0.10, 12.44, 2.5],  # Potatoes, raw, skin \n",
    "    'Sugar': [0.12, 0.00, 98.09, 0.0],  # Sugars, brown \n",
    "    'Tea': [0, 0, 20, 20],  # TEAS'TEA, ORGANIC LIGHTLY SWEET HIBISCUS GREEN TEA, UPC: 835143011305. Per bottle (500ml)\n",
    "    'Tomatoes': [0.79, 0.25, 3.47, 1.9],  # Tomatoes, red, ripe, canned, packed in tomato juice \n",
    "    'Cabbage': [1.28, 0.10, 5.80, 2.5],  # Cabbage, raw\n",
    "    'Cucumbers': [0.59, 0.16, 2.16, 0.7],  # Cucumber, peeled, raw\n",
    "    'Wheat flour': [11.98, 1.66, 72.53, 2.4],  # Wheat flours, bread, unenriched\n",
    "    'Cassava meal': [1.36, 0.28, 38.06, 1.8], # Cassava, raw \n",
    "    'Maize': [8.75, 5.09, 73.89, 8.4],  # Corn flour, whole-grain, blue (harina de maiz morado) \n",
    "    'Sorghum': [10.62, 3.46, 72.09, 6.7],  # Sorghum grain \n",
    "    'Millet': [3.51, 1.00, 23.67, 1.3],  # Millet, cooked\n",
    "    'Noodles': [1.79, 0.20, 24.01, 1.0],  # Rice noodles, cooked\n",
    "    'Cassava flour': [1.36, 0.28, 38.06, 1.8], # Cassava, raw \n",
    "    'Sweet potatoes': [1.98, 0.20, 23.19, 1.7], # Sweet potato, canned, mashed\n",
    "    'Groundnuts': [18.22, 43.85, 43.85, 3.3], # Nuts, cashew nuts, raw \n",
    "    'Cassava': [1.36, 0.28, 38.06, 1.8], # Cassava, raw \n",
    "    'Peas': [2.80, 0.20, 7.55, 2.6], # Peas, edible-podded, raw\n",
    "    'Sesame': [40.32, 11.89, 35.14, 0.0], # Seeds, sesame flour, partially defatted \n",
    "    'Soybeans': [12.95, 6.80, 11.05, 4.2],  # Soybeans, green, raw\n",
    "    'Blackberry': [1.39, 0.49, 9.61, 5.3],  # Blackberries, raw \n",
    "    'Broccoli': [3.83, 0.52, 3.12, 2.8],  # Broccoli raab, cooked \n",
    "    'Cauliflower': [3.04, 0.31, 6.28, 3.3],  # Cauliflower, green, cooked, with salt \n",
    "    'Chickpeas': [22.39, 6.69, 57.82, 10.8],  # Chickpea flour (besan)\n",
    "    'Cocoa': [19.60, 13.70, 57.90, 37.0],  # Cocoa, dry powder, unsweetened \n",
    "    'Coffee': [0.09, 0.0, 0.75, 0.0],  # Beverages, coffee, instant, chicory \n",
    "    'Mangoes': [0.82, 0.38, 14.98, 1.6],  # Mangos, raw\n",
    "    'Oranges': [1.30, 0.30, 15.50, 4.5],  # Oranges, raw, with peel \n",
    "    'Papaya': [0.47, 0.26, 10.82, 1.7],  # Papayas, raw\n",
    "    'Plantains': [1.52, 0.16, 41.37, 2.2],  # Plantains, yellow, baked \n",
    "    'Pumpkin': [1.00, 0.10, 6.50, 0.5],  # Pumpkin, raw\n",
    "    'Spinach': [2.86, 0.39, 3.63, 2.2],  # Spinach, raw\n",
    "    'Tamarillos/tree tomatoes': [0.79, 0.25, 3.47, 1.9],  # Tomatoes, red, ripe, canned, packed in tomato juice \n",
    "    'Garlic': [6.36, 0.50, 33.06, 2.1],  # Garlic, raw \n",
    "    'Guava': [2.55, 0.95, 14.32, 5.4],  # Guavas, common, raw\n",
    "    'Maize flour': [8.75, 5.09, 73.89, 8.4],  # Corn flour, whole-grain, blue (harina de maiz morado) \n",
    "    'Salt': [0.0, 0.0, 0.0, 0.0],  # Salt, table \n",
    "    'Cornstarch': [0.26, 0.05, 91.27, 0.9],  # Cornstarch \n",
    "    'Peanut': [25.80, 49.24, 16.13, 8.5],  # Peanuts, all types, raw \n",
    "    'Yam': [1.53, 0.17, 27.88, 4.1],  # Yam, raw \n",
    "    'Cashew': [5.00, 14.00, 8.00, 1.0],  # CASHEWS, UPC: 099482434236 \n",
    "    'Maize meal': [8.75, 5.09, 73.89, 8.4],  # Corn flour, whole-grain, blue (harina de maiz morado) \n",
    "    'Fonio': [3.51, 1.00, 23.67, 1.3],  # Millet, cooked\n",
    "    'Ghee': [0.0, 100.0, 0.0, 0.0],  # Butter, Clarified butter (ghee)\n",
    "    'Bulgur': [3.08, 0.24, 18.58, 4.5],  # Bulgur, cooked \n",
    "    'Lettuce': [1.36, 0.15, 2.87, 1.3],  # Lettuce, green leaf, raw \n",
    "    'Cowpeas': [4.67, 0.10, 2.80, 0.0],  # Cowpeas, leafy tips, cooked, boiled, drained, with salt \n",
    "    'Pulses': [25.80, 49.24, 16.13, 8.5],  # Peanuts, all types, raw \n",
    "    'Gari': [1.79, 1.79, 78.57, 0.0],  # GARI, UPC: 611785102454 \n",
    "    'Poultry': [17.44, 8.10, 0.04, 0.0],  # Chicken\n",
    "    'Avocados': [1.96, 15.41, 8.64, 6.8],  # Avocados, raw, California\n",
    "    'Chili': [0.72, 0.27, 4.60, 1.7],  # Peppers, chili, green, canned \n",
    "    'Eggplants': [0.98, 0.18, 5.88, 3.0],  # Eggplant, raw \n",
    "    'Passion fruit': [2.20, 0.70, 23.38, 10.4],  # Passion-fruit, (granadilla), purple, raw \n",
    "    'Peppers': [0.72, 0.27, 4.60, 1.7],  # Peppers, chili, green, canned \n",
    "    'Sorghum flour': [10.62, 3.46, 72.09, 6.7],  # Sorghum grain \n",
    "    'Cassava leaves': [1.36, 0.28, 38.06, 1.8], # Cassava, raw \n",
    "    'Zucchini': [1.21, 0.32, 3.11, 1.0],  # Squash, summer, zucchini, includes skin, raw\n",
    "    'Labaneh': [7.49, 6.17, 5.73, 0.0],  # YOGHURT, UPC: 853923002800 \n",
    "    'Water': [0.0, 0.0, 0.0, 0.0],  # Water, bottled, generic \n",
    "    'Yogurt': [7.49, 6.17, 5.73, 0.0],  # YOGHURT, UPC: 853923002800 \n",
    "    'Dates': [1.81, 0.15, 74.97, 6.7],  # Dates, medjool \n",
    "    'Parsley': [2.97, 0.79, 6.33, 3.3],  # Parsley, fresh \n",
    "    'Beetroots': [1.00, 0.00, 13.00, 2.00],  # MASHED BEETROOT, UPC: 5902009001581 \n",
    "    'Buckwheat grits': [13.25, 3.40, 71.50, 10.0],  # Buckwheat\n",
    "    'Butter': [0.0, 100.0, 0.0, 0.0],  # Butter, Clarified butter (ghee)\n",
    "    'Curd': [12.50, 8.10, 6.90, 0.0],  # Soybean, curd cheese \n",
    "    'Fat': [0.0, 100.0, 0.0, 0.0],  # Butter, Clarified butter (ghee)\n",
    "    'Sour cream': [2.44, 19.35, 4.63, 0.0],  # Cream, sour, cultured \n",
    "}"
   ]
  },
  {
   "cell_type": "code",
   "execution_count": 12,
   "metadata": {},
   "outputs": [],
   "source": [
    "# USDA data is per 10g, multiply by 10 to be per kg!\n",
    "nutrition = 10 * pd.DataFrame(nutrition_dict,\n",
    "                              index=['Protein', 'Fat', 'Carb', 'Fiber']).transpose()"
   ]
  },
  {
   "cell_type": "code",
   "execution_count": 13,
   "metadata": {},
   "outputs": [],
   "source": [
    "nutrition.to_csv('nutrition.csv')"
   ]
  },
  {
   "cell_type": "code",
   "execution_count": null,
   "metadata": {},
   "outputs": [],
   "source": []
  }
 ],
 "metadata": {
  "kernelspec": {
   "display_name": "Python 3",
   "language": "python",
   "name": "python3"
  },
  "language_info": {
   "codemirror_mode": {
    "name": "ipython",
    "version": 3
   },
   "file_extension": ".py",
   "mimetype": "text/x-python",
   "name": "python",
   "nbconvert_exporter": "python",
   "pygments_lexer": "ipython3",
   "version": "3.6.5"
  }
 },
 "nbformat": 4,
 "nbformat_minor": 2
}
