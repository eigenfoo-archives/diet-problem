{
 "cells": [
  {
   "cell_type": "code",
   "execution_count": 1,
   "metadata": {},
   "outputs": [],
   "source": [
    "import numpy as np\n",
    "import pandas as pd\n",
    "import re"
   ]
  },
  {
   "cell_type": "code",
   "execution_count": 2,
   "metadata": {},
   "outputs": [],
   "source": [
    "df = pd.read_csv('wfp_market_food_prices.zip', encoding='ISO-8859-1')"
   ]
  },
  {
   "cell_type": "code",
   "execution_count": 3,
   "metadata": {},
   "outputs": [],
   "source": [
    "# Rename columns to something sensible\n",
    "df = df.rename(\n",
    "    {\n",
    "        'adm0_id': 'country_id',\n",
    "        'adm0_name': 'country_name',\n",
    "        'adm1_id': 'locality_id',\n",
    "        'adm1_name': 'locality_name',\n",
    "        'mkt_id': 'market_id',\n",
    "        'mkt_name': 'market_name',\n",
    "        'cm_id': 'commodity_id',\n",
    "        'cm_name': 'commodity_name',\n",
    "        'cur_id': 'currency_id',\n",
    "        'cur_name': 'currency_name',\n",
    "        'pt_id': 'market_type_id',\n",
    "        'pt_name': 'market_type',\n",
    "        'um_id': 'measurement_id',\n",
    "        'um_name': 'unit_of_goods_measurement',\n",
    "        'mp_month': 'month_recorded',\n",
    "        'mp_year': 'year_recorded',\n",
    "        'mp_commoditysource': 'source'\n",
    "    },\n",
    "    axis='columns')\n",
    "\n",
    "useless_columns = ['country_id', 'locality_id', 'market_id', 'commodity_id',\n",
    "                   'currency_id', 'market_type_id', 'measurement_id', 'source']\n",
    "df = df.drop(useless_columns, axis=1)"
   ]
  },
  {
   "cell_type": "code",
   "execution_count": 4,
   "metadata": {
    "scrolled": false
   },
   "outputs": [],
   "source": [
    "# For a given country, locality, market and commodity, only keep the most recent recording of price\n",
    "# Since the data is sorted to begin with, we only need to keep the last entry\n",
    "df = df.groupby(['country_name', 'locality_name', 'market_name', 'commodity_name']).last().reset_index()\n",
    "df = df.drop(['month_recorded', 'year_recorded'], axis=1)"
   ]
  },
  {
   "cell_type": "code",
   "execution_count": 5,
   "metadata": {},
   "outputs": [],
   "source": [
    "# Remove all parentheses, which merely differentiate between the different kinds of food\n",
    "# i.e. imported or not, method of cooking, etc.\n",
    "df.commodity_name = df.commodity_name.apply(lambda s: re.sub('\\(.*\\)', '', s).strip())"
   ]
  },
  {
   "cell_type": "code",
   "execution_count": 6,
   "metadata": {},
   "outputs": [],
   "source": [
    "# Remove things that are not foods\n",
    "non_foods = ['Exchange rate', 'Fuel', 'Wage', 'Charcoal', 'Oil']\n",
    "df = df[~df.loc[:, 'commodity_name'].isin(non_foods)]"
   ]
  },
  {
   "cell_type": "code",
   "execution_count": 7,
   "metadata": {},
   "outputs": [],
   "source": [
    "# Renumber rows\n",
    "df = df.reset_index(drop=True)"
   ]
  },
  {
   "cell_type": "code",
   "execution_count": 8,
   "metadata": {},
   "outputs": [],
   "source": [
    "df.to_csv('processed_data.csv')"
   ]
  },
  {
   "cell_type": "code",
   "execution_count": null,
   "metadata": {},
   "outputs": [],
   "source": []
  }
 ],
 "metadata": {
  "kernelspec": {
   "display_name": "Python 3",
   "language": "python",
   "name": "python3"
  },
  "language_info": {
   "codemirror_mode": {
    "name": "ipython",
    "version": 3
   },
   "file_extension": ".py",
   "mimetype": "text/x-python",
   "name": "python",
   "nbconvert_exporter": "python",
   "pygments_lexer": "ipython3",
   "version": "3.6.5"
  }
 },
 "nbformat": 4,
 "nbformat_minor": 2
}
