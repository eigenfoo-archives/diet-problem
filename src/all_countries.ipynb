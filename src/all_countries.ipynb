{
 "cells": [
  {
   "cell_type": "markdown",
   "metadata": {},
   "source": [
    "# Solving the Diet Problem for all Countries"
   ]
  },
  {
   "cell_type": "code",
   "execution_count": 1,
   "metadata": {},
   "outputs": [],
   "source": [
    "'''\n",
    "Solving the diet problem for all countries.\n",
    "\n",
    "This script reads nutrition and pricing data, groups the data by country, locality and market (in that order)\n",
    "and solves the diet problem for each group, and writes the results to an output csv. The results include the\n",
    "minimum, the minimum value, the optimization status, and the slack (a.k.a. dual) variables.\n",
    "\n",
    "Author: George Ho (gh@eigenfoo.xyz)\n",
    "''';\n",
    "\n",
    "import numpy as np\n",
    "import pandas as pd\n",
    "from scipy.optimize import linprog\n",
    "\n",
    "NUTRITION_FILE = '../data/nutrition.csv'\n",
    "PRICING_FILE = '../data/pricing.csv'\n",
    "\n",
    "# If a particular market does not have a food, we set\n",
    "# its price to be \"infinity\" (i.e. 999999). np.nan\n",
    "# does not suffice, as we must have float datatypes.\n",
    "INFINITY = 999999\n",
    "\n",
    "# Read in data csvs\n",
    "nutrition = pd.read_csv(NUTRITION_FILE, index_col=0)\n",
    "pricing = pd.read_csv(PRICING_FILE, index_col=0)\n",
    "\n",
    "# Group by country, locality and market, in that order.\n",
    "grouped = pricing.groupby(['country_name', 'locality_name', 'market_name'])\n",
    "\n",
    "solns = {}\n",
    "\n",
    "# Solve diet problem for all groups\n",
    "# (i.e. all markets in all localities in all countries)\n",
    "for market, idx in grouped.groups.items():\n",
    "    df = pricing.loc[idx]\n",
    "\n",
    "    # Form A matrix (nutritional values of each food) and\n",
    "    # b vector (dietary requirements for each nutrient).\n",
    "    # Dietary requirements: protein, fat, carbs, fiber, in that order.\n",
    "    # From http://www.netrition.com/rdi_page.html\n",
    "    A_ub = -np.transpose(nutrition.values)\n",
    "    b_ub = -np.array([50, 65, 300, 25])\n",
    "    \n",
    "    # Construct c vector appropriately (i.e. add INFINITYs to\n",
    "    # the appropriate foods)\n",
    "    c = pd.Series(data=INFINITY*np.ones(84), index=nutrition.index)\n",
    "    c.loc[df.commodity_name] = df.price.values\n",
    "    c = c.values\n",
    "\n",
    "    # Solve LP using the default simplex algorithm.\n",
    "    solns[market] = linprog(c, A_ub, b_ub)\n",
    "\n",
    "# Collect optimization status, minimum value and minimum into one array\n",
    "data = np.hstack([\n",
    "    np.transpose(\n",
    "        np.vstack([[soln.status for soln in solns.values()],\n",
    "                   [soln.fun for soln in solns.values()]])\n",
    "    ),\n",
    "    [soln.x for soln in solns.values()],\n",
    "    [soln.slack for soln in solns.values()]\n",
    "])\n",
    "\n",
    "# Cast array in a dataframe and save to a csv.\n",
    "cols = (['status', 'fun']\n",
    "        + nutrition.index.tolist()\n",
    "        + ['protein_ineq', 'fat_ineq', 'carbs_ineq', 'fiber_ineq'])\n",
    "\n",
    "df = pd.DataFrame(data=data,\n",
    "                  index=solns.keys(),\n",
    "                  columns=cols)\n",
    "df.to_csv('all_countries.csv')"
   ]
  },
  {
   "cell_type": "code",
   "execution_count": null,
   "metadata": {},
   "outputs": [],
   "source": []
  }
 ],
 "metadata": {
  "kernelspec": {
   "display_name": "Python 3",
   "language": "python",
   "name": "python3"
  },
  "language_info": {
   "codemirror_mode": {
    "name": "ipython",
    "version": 3
   },
   "file_extension": ".py",
   "mimetype": "text/x-python",
   "name": "python",
   "nbconvert_exporter": "python",
   "pygments_lexer": "ipython3",
   "version": "3.6.7"
  }
 },
 "nbformat": 4,
 "nbformat_minor": 2
}
