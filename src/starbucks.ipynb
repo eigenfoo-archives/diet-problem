{
 "cells": [
  {
   "cell_type": "markdown",
   "metadata": {},
   "source": [
    "# Trial Run using Starbucks Data\n",
    "\n",
    "The diet problem is known to be a linear problem. We can therefore use `scipy.optimize.linprog`, which can solve any problem of the form:\n",
    "\n",
    "```\n",
    "Minimize:     c^T * x\n",
    "\n",
    "Subject to:   A_ub * x <= b_ub\n",
    "              A_eq * x == b_eq\n",
    "```\n",
    "\n",
    "For the diet problem:\n",
    " - `c` is the vector of prices\n",
    " - `A_ub` is the _negative_ of the nutritional values of each food.\n",
    " - `b_ub` is the _negative_ of the daily nutritional requirements.\n",
    " - there are no equality constraints (i.e. there is no `A_eq` or `b_eq`).\n",
    "\n",
    "The syntax for calling the function is as follows:\n",
    "\n",
    "```\n",
    "scipy.optimize.linprog(c, A_ub=None, b_ub=None, A_eq=None, b_eq=None,\n",
    "                       bounds=None, method='simplex', callback=None, options=None)\n",
    "```"
   ]
  },
  {
   "cell_type": "code",
   "execution_count": 1,
   "metadata": {},
   "outputs": [],
   "source": [
    "import numpy as np\n",
    "import pandas as pd\n",
    "from scipy.optimize import linprog"
   ]
  },
  {
   "cell_type": "code",
   "execution_count": 2,
   "metadata": {},
   "outputs": [],
   "source": [
    "DATA_FILE = '../data/starbucks-breakfast.csv'"
   ]
  },
  {
   "cell_type": "code",
   "execution_count": 3,
   "metadata": {},
   "outputs": [],
   "source": [
    "df = pd.read_csv(DATA_FILE, index_col=0)"
   ]
  },
  {
   "cell_type": "code",
   "execution_count": 4,
   "metadata": {},
   "outputs": [],
   "source": [
    "df = df.fillna(df.mean())"
   ]
  },
  {
   "cell_type": "code",
   "execution_count": 5,
   "metadata": {},
   "outputs": [
    {
     "data": {
      "text/html": [
       "<div>\n",
       "<style scoped>\n",
       "    .dataframe tbody tr th:only-of-type {\n",
       "        vertical-align: middle;\n",
       "    }\n",
       "\n",
       "    .dataframe tbody tr th {\n",
       "        vertical-align: top;\n",
       "    }\n",
       "\n",
       "    .dataframe thead th {\n",
       "        text-align: right;\n",
       "    }\n",
       "</style>\n",
       "<table border=\"1\" class=\"dataframe\">\n",
       "  <thead>\n",
       "    <tr style=\"text-align: right;\">\n",
       "      <th></th>\n",
       "      <th>Calories</th>\n",
       "      <th>Fat (g)</th>\n",
       "      <th>Carb. (g)</th>\n",
       "      <th>Fiber (g)</th>\n",
       "      <th>Protein (g)</th>\n",
       "      <th>Price (USD)</th>\n",
       "    </tr>\n",
       "  </thead>\n",
       "  <tbody>\n",
       "    <tr>\n",
       "      <th>Bacon Gouda &amp; Egg Breakfast Sandwich</th>\n",
       "      <td>370</td>\n",
       "      <td>19.0</td>\n",
       "      <td>32</td>\n",
       "      <td>1</td>\n",
       "      <td>18</td>\n",
       "      <td>3.7500</td>\n",
       "    </tr>\n",
       "    <tr>\n",
       "      <th>Classic Oatmeal</th>\n",
       "      <td>160</td>\n",
       "      <td>2.5</td>\n",
       "      <td>28</td>\n",
       "      <td>4</td>\n",
       "      <td>5</td>\n",
       "      <td>3.4500</td>\n",
       "    </tr>\n",
       "    <tr>\n",
       "      <th>Double-Smoked Bacon Cheddar &amp; Egg Sandwich</th>\n",
       "      <td>490</td>\n",
       "      <td>27.0</td>\n",
       "      <td>40</td>\n",
       "      <td>1</td>\n",
       "      <td>21</td>\n",
       "      <td>4.7500</td>\n",
       "    </tr>\n",
       "    <tr>\n",
       "      <th>Everything Croissant Pastrami &amp; Cheddar Breakfast Sandwich</th>\n",
       "      <td>460</td>\n",
       "      <td>22.0</td>\n",
       "      <td>45</td>\n",
       "      <td>1</td>\n",
       "      <td>22</td>\n",
       "      <td>3.8875</td>\n",
       "    </tr>\n",
       "    <tr>\n",
       "      <th>Ham &amp; Cheese Croissant</th>\n",
       "      <td>320</td>\n",
       "      <td>17.0</td>\n",
       "      <td>28</td>\n",
       "      <td>1</td>\n",
       "      <td>14</td>\n",
       "      <td>3.8875</td>\n",
       "    </tr>\n",
       "  </tbody>\n",
       "</table>\n",
       "</div>"
      ],
      "text/plain": [
       "                                                    Calories  Fat (g)  \\\n",
       "Bacon Gouda & Egg Breakfast Sandwich                     370     19.0   \n",
       "Classic Oatmeal                                          160      2.5   \n",
       "Double-Smoked Bacon Cheddar & Egg Sandwich               490     27.0   \n",
       "Everything Croissant Pastrami & Cheddar Breakfa...       460     22.0   \n",
       "Ham & Cheese Croissant                                   320     17.0   \n",
       "\n",
       "                                                    Carb. (g)  Fiber (g)  \\\n",
       "Bacon Gouda & Egg Breakfast Sandwich                       32          1   \n",
       "Classic Oatmeal                                            28          4   \n",
       "Double-Smoked Bacon Cheddar & Egg Sandwich                 40          1   \n",
       "Everything Croissant Pastrami & Cheddar Breakfa...         45          1   \n",
       "Ham & Cheese Croissant                                     28          1   \n",
       "\n",
       "                                                    Protein (g)  Price (USD)  \n",
       "Bacon Gouda & Egg Breakfast Sandwich                         18       3.7500  \n",
       "Classic Oatmeal                                               5       3.4500  \n",
       "Double-Smoked Bacon Cheddar & Egg Sandwich                   21       4.7500  \n",
       "Everything Croissant Pastrami & Cheddar Breakfa...           22       3.8875  \n",
       "Ham & Cheese Croissant                                       14       3.8875  "
      ]
     },
     "execution_count": 5,
     "metadata": {},
     "output_type": "execute_result"
    }
   ],
   "source": [
    "df.head()"
   ]
  },
  {
   "cell_type": "code",
   "execution_count": 6,
   "metadata": {},
   "outputs": [],
   "source": [
    "c = df.loc[:, 'Price (USD)'].values\n",
    "A_ub = -df.loc[:, 'Calories':'Protein (g)'].transpose().values\n",
    "b_ub = -np.array([2000, 65, 300, 25, 50])  # From https://www.netritioncom/rdi_page.html"
   ]
  },
  {
   "cell_type": "code",
   "execution_count": 8,
   "metadata": {},
   "outputs": [],
   "source": [
    "soln = linprog(c, A_ub, b_ub)"
   ]
  },
  {
   "cell_type": "code",
   "execution_count": 15,
   "metadata": {},
   "outputs": [
    {
     "data": {
      "text/html": [
       "<div>\n",
       "<style scoped>\n",
       "    .dataframe tbody tr th:only-of-type {\n",
       "        vertical-align: middle;\n",
       "    }\n",
       "\n",
       "    .dataframe tbody tr th {\n",
       "        vertical-align: top;\n",
       "    }\n",
       "\n",
       "    .dataframe thead th {\n",
       "        text-align: right;\n",
       "    }\n",
       "</style>\n",
       "<table border=\"1\" class=\"dataframe\">\n",
       "  <thead>\n",
       "    <tr style=\"text-align: right;\">\n",
       "      <th></th>\n",
       "      <th>Solution</th>\n",
       "    </tr>\n",
       "  </thead>\n",
       "  <tbody>\n",
       "    <tr>\n",
       "      <th>Bacon Gouda &amp; Egg Breakfast Sandwich</th>\n",
       "      <td>0.000000</td>\n",
       "    </tr>\n",
       "    <tr>\n",
       "      <th>Classic Oatmeal</th>\n",
       "      <td>0.000000</td>\n",
       "    </tr>\n",
       "    <tr>\n",
       "      <th>Double-Smoked Bacon Cheddar &amp; Egg Sandwich</th>\n",
       "      <td>0.000000</td>\n",
       "    </tr>\n",
       "    <tr>\n",
       "      <th>Everything Croissant Pastrami &amp; Cheddar Breakfast Sandwich</th>\n",
       "      <td>0.000000</td>\n",
       "    </tr>\n",
       "    <tr>\n",
       "      <th>Ham &amp; Cheese Croissant</th>\n",
       "      <td>0.000000</td>\n",
       "    </tr>\n",
       "    <tr>\n",
       "      <th>Hearty Blueberry Oatmeal</th>\n",
       "      <td>5.206537</td>\n",
       "    </tr>\n",
       "    <tr>\n",
       "      <th>Reduced-Fat Turkey Bacon &amp; Cage Free Egg White Breakfast Sandwich</th>\n",
       "      <td>0.000000</td>\n",
       "    </tr>\n",
       "    <tr>\n",
       "      <th>Sausage Cheddar &amp; Egg Breakfast Sandwich</th>\n",
       "      <td>1.856559</td>\n",
       "    </tr>\n",
       "    <tr>\n",
       "      <th>Seared Steak Egg &amp; Tomatillo Wrap</th>\n",
       "      <td>0.000000</td>\n",
       "    </tr>\n",
       "    <tr>\n",
       "      <th>Slow-Roasted Ham Swiss &amp; Egg Breakfast Sandwich</th>\n",
       "      <td>0.000000</td>\n",
       "    </tr>\n",
       "    <tr>\n",
       "      <th>Sous Vide Egg Bites: Bacon &amp; Gruyere</th>\n",
       "      <td>0.000000</td>\n",
       "    </tr>\n",
       "    <tr>\n",
       "      <th>Sous Vide Egg Bites: Chicken Chorizo Tortilla</th>\n",
       "      <td>0.000000</td>\n",
       "    </tr>\n",
       "    <tr>\n",
       "      <th>Sous Vide Egg Bites: Egg White &amp; Red Pepper</th>\n",
       "      <td>0.000000</td>\n",
       "    </tr>\n",
       "    <tr>\n",
       "      <th>Spicy Chorizo Monterey Jack &amp; Egg Breakfast Sandwich</th>\n",
       "      <td>0.000000</td>\n",
       "    </tr>\n",
       "    <tr>\n",
       "      <th>Spinach Feta &amp; Cage Free Egg White Breakfast Wrap</th>\n",
       "      <td>0.000000</td>\n",
       "    </tr>\n",
       "  </tbody>\n",
       "</table>\n",
       "</div>"
      ],
      "text/plain": [
       "                                                    Solution\n",
       "Bacon Gouda & Egg Breakfast Sandwich                0.000000\n",
       "Classic Oatmeal                                     0.000000\n",
       "Double-Smoked Bacon Cheddar & Egg Sandwich          0.000000\n",
       "Everything Croissant Pastrami & Cheddar Breakfa...  0.000000\n",
       "Ham & Cheese Croissant                              0.000000\n",
       "Hearty Blueberry Oatmeal                            5.206537\n",
       "Reduced-Fat Turkey Bacon & Cage Free Egg White ...  0.000000\n",
       "Sausage Cheddar & Egg Breakfast Sandwich            1.856559\n",
       "Seared Steak Egg & Tomatillo Wrap                   0.000000\n",
       "Slow-Roasted Ham Swiss & Egg Breakfast Sandwich     0.000000\n",
       "Sous Vide Egg Bites: Bacon & Gruyere                0.000000\n",
       "Sous Vide Egg Bites: Chicken Chorizo Tortilla       0.000000\n",
       "Sous Vide Egg Bites: Egg White & Red Pepper         0.000000\n",
       "Spicy Chorizo Monterey Jack & Egg Breakfast San...  0.000000\n",
       "Spinach Feta & Cage Free Egg White Breakfast Wrap   0.000000"
      ]
     },
     "execution_count": 15,
     "metadata": {},
     "output_type": "execute_result"
    }
   ],
   "source": [
    "pd.DataFrame(data=soln.x,\n",
    "             index=df.index,\n",
    "             columns=['Solution'])"
   ]
  },
  {
   "cell_type": "code",
   "execution_count": null,
   "metadata": {},
   "outputs": [],
   "source": []
  }
 ],
 "metadata": {
  "kernelspec": {
   "display_name": "Python 3",
   "language": "python",
   "name": "python3"
  },
  "language_info": {
   "codemirror_mode": {
    "name": "ipython",
    "version": 3
   },
   "file_extension": ".py",
   "mimetype": "text/x-python",
   "name": "python",
   "nbconvert_exporter": "python",
   "pygments_lexer": "ipython3",
   "version": "3.6.5"
  }
 },
 "nbformat": 4,
 "nbformat_minor": 2
}
