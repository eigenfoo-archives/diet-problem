{
 "cells": [
  {
   "cell_type": "markdown",
   "metadata": {},
   "source": [
    "# Trial Run using Starbucks Data\n",
    "\n",
    "The diet problem is known to be a linear problem. We can therefore use `scipy.optimize.linprog`, which can solve any problem of the form:\n",
    "\n",
    "```\n",
    "Minimize:     c^T * x\n",
    "\n",
    "Subject to:   A_ub * x <= b_ub\n",
    "              A_eq * x == b_eq\n",
    "```\n",
    "\n",
    "For the diet problem:\n",
    " - `c` is the vector of prices\n",
    " - `A_ub` is the _negative_ of the nutritional values of each food.\n",
    " - `b_ub` is the _negative_ of the daily nutritional requirements.\n",
    " - there are no equality constraints (i.e. there is no `A_eq` or `b_eq`).\n",
    "\n",
    "The syntax for calling the function is as follows:\n",
    "\n",
    "```\n",
    "scipy.optimize.linprog(c, A_ub=None, b_ub=None, A_eq=None, b_eq=None,\n",
    "                       bounds=None, method='simplex', callback=None, options=None)\n",
    "```"
   ]
  },
  {
   "cell_type": "code",
   "execution_count": 2,
   "metadata": {},
   "outputs": [],
   "source": [
    "import numpy as np\n",
    "import pandas as pd\n",
    "from scipy.optimize import linprog"
   ]
  },
  {
   "cell_type": "code",
   "execution_count": 3,
   "metadata": {},
   "outputs": [],
   "source": [
    "DATA_FILE = '../data/starbucks-breakfast.csv'"
   ]
  },
  {
   "cell_type": "code",
   "execution_count": 4,
   "metadata": {},
   "outputs": [],
   "source": [
    "df = pd.read_csv(DATA_FILE, index_col=0)"
   ]
  },
  {
   "cell_type": "code",
   "execution_count": 5,
   "metadata": {},
   "outputs": [
    {
     "data": {
      "text/html": [
       "<div>\n",
       "<style scoped>\n",
       "    .dataframe tbody tr th:only-of-type {\n",
       "        vertical-align: middle;\n",
       "    }\n",
       "\n",
       "    .dataframe tbody tr th {\n",
       "        vertical-align: top;\n",
       "    }\n",
       "\n",
       "    .dataframe thead th {\n",
       "        text-align: right;\n",
       "    }\n",
       "</style>\n",
       "<table border=\"1\" class=\"dataframe\">\n",
       "  <thead>\n",
       "    <tr style=\"text-align: right;\">\n",
       "      <th></th>\n",
       "      <th>Calories</th>\n",
       "      <th>Fat (g)</th>\n",
       "      <th>Carb. (g)</th>\n",
       "      <th>Fiber (g)</th>\n",
       "      <th>Protein (g)</th>\n",
       "    </tr>\n",
       "  </thead>\n",
       "  <tbody>\n",
       "    <tr>\n",
       "      <th>Bacon Gouda &amp; Egg Breakfast Sandwich</th>\n",
       "      <td>370</td>\n",
       "      <td>19.0</td>\n",
       "      <td>32</td>\n",
       "      <td>1</td>\n",
       "      <td>18</td>\n",
       "    </tr>\n",
       "    <tr>\n",
       "      <th>Classic Oatmeal</th>\n",
       "      <td>160</td>\n",
       "      <td>2.5</td>\n",
       "      <td>28</td>\n",
       "      <td>4</td>\n",
       "      <td>5</td>\n",
       "    </tr>\n",
       "    <tr>\n",
       "      <th>Double-Smoked Bacon Cheddar &amp; Egg Sandwich</th>\n",
       "      <td>490</td>\n",
       "      <td>27.0</td>\n",
       "      <td>40</td>\n",
       "      <td>1</td>\n",
       "      <td>21</td>\n",
       "    </tr>\n",
       "    <tr>\n",
       "      <th>Everything Croissant Pastrami &amp; Cheddar Breakfast Sandwich</th>\n",
       "      <td>460</td>\n",
       "      <td>22.0</td>\n",
       "      <td>45</td>\n",
       "      <td>1</td>\n",
       "      <td>22</td>\n",
       "    </tr>\n",
       "    <tr>\n",
       "      <th>Ham &amp; Cheese Croissant</th>\n",
       "      <td>320</td>\n",
       "      <td>17.0</td>\n",
       "      <td>28</td>\n",
       "      <td>1</td>\n",
       "      <td>14</td>\n",
       "    </tr>\n",
       "  </tbody>\n",
       "</table>\n",
       "</div>"
      ],
      "text/plain": [
       "                                                     Calories   Fat (g)  \\\n",
       "Bacon Gouda & Egg Breakfast Sandwich                      370      19.0   \n",
       "Classic Oatmeal                                           160       2.5   \n",
       "Double-Smoked Bacon Cheddar & Egg Sandwich                490      27.0   \n",
       "Everything Croissant Pastrami & Cheddar Breakfa...        460      22.0   \n",
       "Ham & Cheese Croissant                                    320      17.0   \n",
       "\n",
       "                                                     Carb. (g)   Fiber (g)  \\\n",
       "Bacon Gouda & Egg Breakfast Sandwich                        32           1   \n",
       "Classic Oatmeal                                             28           4   \n",
       "Double-Smoked Bacon Cheddar & Egg Sandwich                  40           1   \n",
       "Everything Croissant Pastrami & Cheddar Breakfa...          45           1   \n",
       "Ham & Cheese Croissant                                      28           1   \n",
       "\n",
       "                                                     Protein (g)  \n",
       "Bacon Gouda & Egg Breakfast Sandwich                          18  \n",
       "Classic Oatmeal                                                5  \n",
       "Double-Smoked Bacon Cheddar & Egg Sandwich                    21  \n",
       "Everything Croissant Pastrami & Cheddar Breakfa...            22  \n",
       "Ham & Cheese Croissant                                        14  "
      ]
     },
     "execution_count": 5,
     "metadata": {},
     "output_type": "execute_result"
    }
   ],
   "source": [
    "df.head()"
   ]
  },
  {
   "cell_type": "code",
   "execution_count": 6,
   "metadata": {},
   "outputs": [],
   "source": [
    "# Diet requirements depend on caloric needs.\n",
    "# I'm making up protein here.\n",
    "b_ub = [2500, 80, 375, 30, 15]\n",
    "#b_ub = [2000, 65, 300, 25, 10]"
   ]
  },
  {
   "cell_type": "code",
   "execution_count": null,
   "metadata": {},
   "outputs": [],
   "source": []
  }
 ],
 "metadata": {
  "kernelspec": {
   "display_name": "Python 3",
   "language": "python",
   "name": "python3"
  },
  "language_info": {
   "codemirror_mode": {
    "name": "ipython",
    "version": 3
   },
   "file_extension": ".py",
   "mimetype": "text/x-python",
   "name": "python",
   "nbconvert_exporter": "python",
   "pygments_lexer": "ipython3",
   "version": "3.6.5"
  }
 },
 "nbformat": 4,
 "nbformat_minor": 2
}
