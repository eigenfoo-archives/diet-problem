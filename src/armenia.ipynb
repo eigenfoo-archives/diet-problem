{
 "cells": [
  {
   "cell_type": "code",
   "execution_count": 1,
   "metadata": {},
   "outputs": [],
   "source": [
    "import numpy as np\n",
    "import pandas as pd\n",
    "from scipy.optimize import linprog"
   ]
  },
  {
   "cell_type": "code",
   "execution_count": 2,
   "metadata": {},
   "outputs": [],
   "source": [
    "NUTRITION_FILE = '../data/nutrition.csv'\n",
    "PRICING_FILE = '../data/pricing.csv'"
   ]
  },
  {
   "cell_type": "code",
   "execution_count": 3,
   "metadata": {},
   "outputs": [],
   "source": [
    "nutrition = pd.read_csv(NUTRITION_FILE, index_col=0)\n",
    "pricing = pd.read_csv(PRICING_FILE, index_col=0)"
   ]
  },
  {
   "cell_type": "code",
   "execution_count": 4,
   "metadata": {
    "scrolled": true
   },
   "outputs": [],
   "source": [
    "grouped = (pricing[pricing.country_name == 'Armenia']\n",
    "                  .groupby(['country_name', 'locality_name', 'market_name']))"
   ]
  },
  {
   "cell_type": "code",
   "execution_count": 5,
   "metadata": {},
   "outputs": [],
   "source": [
    "solns = {}\n",
    "\n",
    "for market, idx in grouped.groups.items():\n",
    "    df = pricing.loc[idx]\n",
    "\n",
    "    A_ub = -np.transpose(nutrition.values)\n",
    "    b_ub = -np.array([65, 300, 25, 50])\n",
    "\n",
    "    # Construct c appropriately (i.e. add 0s to the appropriate foods)\n",
    "    c = pd.Series(data=np.zeros(84), index=nutrition.index)\n",
    "    c.loc[df.commodity_name] = df.price.values\n",
    "    c = c.values\n",
    "\n",
    "    solns[market] = linprog(c, A_ub, b_ub)"
   ]
  },
  {
   "cell_type": "code",
   "execution_count": 6,
   "metadata": {
    "scrolled": false
   },
   "outputs": [],
   "source": [
    "pd.DataFrame(data=[soln.x for soln in solns.values()],\n",
    "             index=solns.keys(),\n",
    "             columns=nutrition.index).transpose().to_csv('armenia.csv')"
   ]
  },
  {
   "cell_type": "code",
   "execution_count": null,
   "metadata": {},
   "outputs": [],
   "source": []
  }
 ],
 "metadata": {
  "kernelspec": {
   "display_name": "Python 3",
   "language": "python",
   "name": "python3"
  },
  "language_info": {
   "codemirror_mode": {
    "name": "ipython",
    "version": 3
   },
   "file_extension": ".py",
   "mimetype": "text/x-python",
   "name": "python",
   "nbconvert_exporter": "python",
   "pygments_lexer": "ipython3",
   "version": "3.6.5"
  }
 },
 "nbformat": 4,
 "nbformat_minor": 2
}
