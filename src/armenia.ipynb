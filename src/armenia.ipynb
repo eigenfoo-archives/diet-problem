{
 "cells": [
  {
   "cell_type": "markdown",
   "metadata": {},
   "source": [
    "# Solving the Diet Problem for Armenia's Five Markets"
   ]
  },
  {
   "cell_type": "code",
   "execution_count": 1,
   "metadata": {},
   "outputs": [],
   "source": [
    "import numpy as np\n",
    "import pandas as pd\n",
    "from scipy.optimize import linprog"
   ]
  },
  {
   "cell_type": "code",
   "execution_count": 2,
   "metadata": {},
   "outputs": [],
   "source": [
    "NUTRITION_FILE = '../data/nutrition.csv'\n",
    "PRICING_FILE = '../data/pricing.csv'\n",
    "\n",
    "# If a particular market does not have a food, we set\n",
    "# its price to be \"infinity\" (i.e. 999999). np.nan\n",
    "# does not suffice, as we must have float datatypes.\n",
    "INFINITY = 999999"
   ]
  },
  {
   "cell_type": "code",
   "execution_count": 3,
   "metadata": {},
   "outputs": [],
   "source": [
    "# Read in data csvs\n",
    "nutrition = pd.read_csv(NUTRITION_FILE, index_col=0)\n",
    "pricing = pd.read_csv(PRICING_FILE, index_col=0)"
   ]
  },
  {
   "cell_type": "code",
   "execution_count": 4,
   "metadata": {
    "scrolled": true
   },
   "outputs": [],
   "source": [
    "# Group Armenia data by country, locality and market, in that order.\n",
    "grouped = (pricing[pricing.country_name == 'Armenia']\n",
    "                  .groupby(['country_name', 'locality_name', 'market_name']))"
   ]
  },
  {
   "cell_type": "code",
   "execution_count": 5,
   "metadata": {},
   "outputs": [],
   "source": [
    "solns = {}\n",
    "\n",
    "# Solve diet problem for all groups\n",
    "# (i.e. all markets in all localities in Armenia)\n",
    "for market, idx in grouped.groups.items():\n",
    "    df = pricing.loc[idx]\n",
    "\n",
    "    # Form A matrix (nutritional values of each food) and\n",
    "    # b vector (dietary requirements for each nutrient).\n",
    "    # Dietary requirements: protein, fat, carbs, fiber, in that order.\n",
    "    # From http://www.netrition.com/rdi_page.html\n",
    "    A_ub = -np.transpose(nutrition.values)\n",
    "    b_ub = -np.array([50, 65, 300, 25])\n",
    "\n",
    "    # Construct c vector appropriately (i.e. add INFINITYs to\n",
    "    # the appropriate foods)\n",
    "    c = pd.Series(data=INFINITY*np.ones(84), index=nutrition.index)\n",
    "    c.loc[df.commodity_name] = df.price.values\n",
    "    c = c.values\n",
    "\n",
    "    # Solve LP using the default simplex algorithm.\n",
    "    solns[market] = linprog(c, A_ub, b_ub)"
   ]
  },
  {
   "cell_type": "code",
   "execution_count": 6,
   "metadata": {},
   "outputs": [],
   "source": [
    "# Collect optimization status, minimum value and minimum into one array\n",
    "data = np.hstack([\n",
    "    np.transpose(\n",
    "        np.vstack([[soln.status for soln in solns.values()],\n",
    "                   [soln.fun for soln in solns.values()]])\n",
    "    ),\n",
    "    [soln.x for soln in solns.values()]\n",
    "])"
   ]
  },
  {
   "cell_type": "code",
   "execution_count": 7,
   "metadata": {
    "scrolled": false
   },
   "outputs": [],
   "source": [
    "# Cast array in a dataframe and save to a csv.\n",
    "df = pd.DataFrame(data=data,\n",
    "                  index=solns.keys(),\n",
    "                  columns=['status', 'fun'] + nutrition.index.tolist())\n",
    "df.to_csv('armenia.csv')"
   ]
  },
  {
   "cell_type": "markdown",
   "metadata": {},
   "source": [
    "## Sensitivity Analysis, Part 2\n",
    "\n",
    "Trying it this time using the dual problem..."
   ]
  },
  {
   "cell_type": "code",
   "execution_count": 27,
   "metadata": {},
   "outputs": [],
   "source": [
    "duals = {}\n",
    "\n",
    "# Solve diet problem for all groups\n",
    "# (i.e. all markets in all localities in Armenia)\n",
    "for market, idx in grouped.groups.items():\n",
    "    df = pricing.loc[idx]\n",
    "\n",
    "    # Form A matrix (nutritional values of each food) and\n",
    "    # b vector (dietary requirements for each nutrient).\n",
    "    # Dietary requirements: protein, fat, carbs, fiber, in that order.\n",
    "    # From http://www.netrition.com/rdi_page.html\n",
    "    A_ub = nutrition.values\n",
    "    b_ub = np.array([50, 65, 300, 25])\n",
    "\n",
    "    # Construct c vector appropriately (i.e. add INFINITYs to\n",
    "    # the appropriate foods)\n",
    "    c = pd.Series(data=INFINITY*np.ones(84), index=nutrition.index)\n",
    "    c.loc[df.commodity_name] = df.price.values\n",
    "    c = c.values\n",
    "\n",
    "    # Solve LP using the default simplex algorithm.\n",
    "    duals[market] = linprog(b_ub, A_ub, c)"
   ]
  },
  {
   "cell_type": "code",
   "execution_count": 28,
   "metadata": {},
   "outputs": [
    {
     "data": {
      "text/plain": [
       "[array([0., 0., 0., 0.]),\n",
       " array([0., 0., 0., 0.]),\n",
       " array([0., 0., 0., 0.]),\n",
       " array([0., 0., 0., 0.]),\n",
       " array([0., 0., 0., 0.])]"
      ]
     },
     "execution_count": 28,
     "metadata": {},
     "output_type": "execute_result"
    }
   ],
   "source": [
    "[dual.x for dual in duals.values()]"
   ]
  },
  {
   "cell_type": "markdown",
   "metadata": {},
   "source": [
    "## Sensitivity Analysis\n",
    "\n",
    "Here, we focus our attention on the market of Armavir, in the Lori locality, in Armenia."
   ]
  },
  {
   "cell_type": "code",
   "execution_count": 28,
   "metadata": {
    "scrolled": true
   },
   "outputs": [],
   "source": [
    "x = df.iloc[0].drop(['status', 'fun'])"
   ]
  },
  {
   "cell_type": "code",
   "execution_count": 29,
   "metadata": {
    "scrolled": true
   },
   "outputs": [],
   "source": [
    "# Only eggs and pasta are demanded.\n",
    "demanded = x[x != 0].index"
   ]
  },
  {
   "cell_type": "code",
   "execution_count": 30,
   "metadata": {},
   "outputs": [],
   "source": [
    "mask = (pricing.country_name == 'Armenia') & (pricing.locality_name == 'Lori') & (pricing.market_name == 'Armavir')\n",
    "pricing = pricing[mask].drop(['country_name', 'locality_name', 'market_name'], axis=1).reset_index(drop=True)"
   ]
  },
  {
   "cell_type": "code",
   "execution_count": 31,
   "metadata": {},
   "outputs": [],
   "source": [
    "perturbed_solns = {}\n",
    "perturbations = [1.1, 1.5, 0.9, 0.5]  # Increase and decrease by 10% and 50%\n",
    "\n",
    "# First, perturb nutrition data\n",
    "for perturbation in perturbations:\n",
    "    for food in demanded:\n",
    "        perturbed_nutrition = nutrition.copy()\n",
    "        perturbed_nutrition.loc[food] *= perturbation\n",
    "        \n",
    "        A_ub = -np.transpose(perturbed_nutrition.values)\n",
    "        b_ub = -np.array([65, 300, 25, 50])\n",
    "\n",
    "        # Construct c appropriately (i.e. add 0s to the appropriate foods)\n",
    "        c = pd.Series(data=INFINITY*np.ones(84), index=perturbed_nutrition.index)\n",
    "        c.loc[pricing.commodity_name] = pricing.price.values\n",
    "        c = c.values\n",
    "\n",
    "        perturbed_solns[('nutrition', food, perturbation)] = linprog(c, A_ub, b_ub)\n",
    "        \n",
    "# Next, perturb pricing data\n",
    "for perturbation in perturbations:\n",
    "    for food in demanded:\n",
    "        perturbed_pricing = pricing.copy()\n",
    "        perturbed_pricing.loc[perturbed_pricing.commodity_name == food, 'price'] *= perturbation\n",
    "        \n",
    "        A_ub = -np.transpose(nutrition.values)\n",
    "        b_ub = -np.array([65, 300, 25, 50])\n",
    "\n",
    "        # Construct c appropriately (i.e. add 0s to the appropriate foods)\n",
    "        c = pd.Series(data=INFINITY*np.ones(84), index=nutrition.index)\n",
    "        c.loc[perturbed_pricing.commodity_name] = perturbed_pricing.price.values\n",
    "        c = c.values\n",
    "\n",
    "        perturbed_solns[('pricing', food, perturbation)] = linprog(c, A_ub, b_ub)"
   ]
  },
  {
   "cell_type": "code",
   "execution_count": 32,
   "metadata": {},
   "outputs": [],
   "source": [
    "# Collect optimization status, minimum value and minimum into one array\n",
    "data = np.hstack([\n",
    "    np.transpose(\n",
    "        np.vstack([[soln.status for soln in perturbed_solns.values()],\n",
    "                   [soln.fun for soln in perturbed_solns.values()]])\n",
    "    ),\n",
    "    [soln.x for soln in perturbed_solns.values()]\n",
    "])"
   ]
  },
  {
   "cell_type": "code",
   "execution_count": 33,
   "metadata": {},
   "outputs": [
    {
     "data": {
      "text/plain": [
       "(16, 86)"
      ]
     },
     "execution_count": 33,
     "metadata": {},
     "output_type": "execute_result"
    }
   ],
   "source": [
    "data.shape"
   ]
  },
  {
   "cell_type": "code",
   "execution_count": 34,
   "metadata": {},
   "outputs": [],
   "source": [
    "df = pd.DataFrame(data=data,\n",
    "                  index=perturbed_solns.keys(),\n",
    "                  columns=['status', 'fun'] + nutrition.index.tolist())"
   ]
  },
  {
   "cell_type": "code",
   "execution_count": 38,
   "metadata": {},
   "outputs": [
    {
     "data": {
      "text/html": [
       "<div>\n",
       "<style scoped>\n",
       "    .dataframe tbody tr th:only-of-type {\n",
       "        vertical-align: middle;\n",
       "    }\n",
       "\n",
       "    .dataframe tbody tr th {\n",
       "        vertical-align: top;\n",
       "    }\n",
       "\n",
       "    .dataframe thead th {\n",
       "        text-align: right;\n",
       "    }\n",
       "</style>\n",
       "<table border=\"1\" class=\"dataframe\">\n",
       "  <thead>\n",
       "    <tr style=\"text-align: right;\">\n",
       "      <th></th>\n",
       "      <th></th>\n",
       "      <th></th>\n",
       "      <th>fun</th>\n",
       "      <th>Eggs</th>\n",
       "      <th>Lentils</th>\n",
       "      <th>Pasta</th>\n",
       "    </tr>\n",
       "  </thead>\n",
       "  <tbody>\n",
       "    <tr>\n",
       "      <th rowspan=\"8\" valign=\"top\">nutrition</th>\n",
       "      <th>Eggs</th>\n",
       "      <th>1.1</th>\n",
       "      <td>272.752867</td>\n",
       "      <td>0.600422</td>\n",
       "      <td>0.00000</td>\n",
       "      <td>0.561798</td>\n",
       "    </tr>\n",
       "    <tr>\n",
       "      <th>Pasta</th>\n",
       "      <th>1.1</th>\n",
       "      <td>257.127235</td>\n",
       "      <td>0.660464</td>\n",
       "      <td>0.00000</td>\n",
       "      <td>0.510725</td>\n",
       "    </tr>\n",
       "    <tr>\n",
       "      <th>Eggs</th>\n",
       "      <th>1.5</th>\n",
       "      <td>259.943863</td>\n",
       "      <td>0.440310</td>\n",
       "      <td>0.00000</td>\n",
       "      <td>0.561798</td>\n",
       "    </tr>\n",
       "    <tr>\n",
       "      <th>Pasta</th>\n",
       "      <th>1.5</th>\n",
       "      <td>202.649877</td>\n",
       "      <td>0.660464</td>\n",
       "      <td>0.00000</td>\n",
       "      <td>0.374532</td>\n",
       "    </tr>\n",
       "    <tr>\n",
       "      <th>Eggs</th>\n",
       "      <th>0.9</th>\n",
       "      <td>283.427037</td>\n",
       "      <td>0.733849</td>\n",
       "      <td>0.00000</td>\n",
       "      <td>0.561798</td>\n",
       "    </tr>\n",
       "    <tr>\n",
       "      <th>Pasta</th>\n",
       "      <th>0.9</th>\n",
       "      <td>294.421263</td>\n",
       "      <td>0.672088</td>\n",
       "      <td>0.46729</td>\n",
       "      <td>0.000000</td>\n",
       "    </tr>\n",
       "    <tr>\n",
       "      <th>Eggs</th>\n",
       "      <th>0.5</th>\n",
       "      <td>330.393386</td>\n",
       "      <td>1.320929</td>\n",
       "      <td>0.00000</td>\n",
       "      <td>0.561798</td>\n",
       "    </tr>\n",
       "    <tr>\n",
       "      <th>Pasta</th>\n",
       "      <th>0.5</th>\n",
       "      <td>294.421263</td>\n",
       "      <td>0.672088</td>\n",
       "      <td>0.46729</td>\n",
       "      <td>0.000000</td>\n",
       "    </tr>\n",
       "    <tr>\n",
       "      <th rowspan=\"8\" valign=\"top\">pricing</th>\n",
       "      <th>Eggs</th>\n",
       "      <th>1.1</th>\n",
       "      <td>282.839958</td>\n",
       "      <td>0.660464</td>\n",
       "      <td>0.00000</td>\n",
       "      <td>0.561798</td>\n",
       "    </tr>\n",
       "    <tr>\n",
       "      <th>Pasta</th>\n",
       "      <th>1.1</th>\n",
       "      <td>294.421263</td>\n",
       "      <td>0.672088</td>\n",
       "      <td>0.46729</td>\n",
       "      <td>0.000000</td>\n",
       "    </tr>\n",
       "    <tr>\n",
       "      <th>Eggs</th>\n",
       "      <th>1.5</th>\n",
       "      <td>303.974815</td>\n",
       "      <td>0.660464</td>\n",
       "      <td>0.00000</td>\n",
       "      <td>0.561798</td>\n",
       "    </tr>\n",
       "    <tr>\n",
       "      <th>Pasta</th>\n",
       "      <th>1.5</th>\n",
       "      <td>294.421263</td>\n",
       "      <td>0.672088</td>\n",
       "      <td>0.46729</td>\n",
       "      <td>0.000000</td>\n",
       "    </tr>\n",
       "    <tr>\n",
       "      <th>Eggs</th>\n",
       "      <th>0.9</th>\n",
       "      <td>272.272529</td>\n",
       "      <td>0.660464</td>\n",
       "      <td>0.00000</td>\n",
       "      <td>0.561798</td>\n",
       "    </tr>\n",
       "    <tr>\n",
       "      <th>Pasta</th>\n",
       "      <th>0.9</th>\n",
       "      <td>255.084334</td>\n",
       "      <td>0.660464</td>\n",
       "      <td>0.00000</td>\n",
       "      <td>0.561798</td>\n",
       "    </tr>\n",
       "    <tr>\n",
       "      <th>Eggs</th>\n",
       "      <th>0.5</th>\n",
       "      <td>251.137672</td>\n",
       "      <td>0.660464</td>\n",
       "      <td>0.00000</td>\n",
       "      <td>0.561798</td>\n",
       "    </tr>\n",
       "    <tr>\n",
       "      <th>Pasta</th>\n",
       "      <th>0.5</th>\n",
       "      <td>165.196693</td>\n",
       "      <td>0.660464</td>\n",
       "      <td>0.00000</td>\n",
       "      <td>0.561798</td>\n",
       "    </tr>\n",
       "  </tbody>\n",
       "</table>\n",
       "</div>"
      ],
      "text/plain": [
       "                            fun      Eggs  Lentils     Pasta\n",
       "nutrition Eggs  1.1  272.752867  0.600422  0.00000  0.561798\n",
       "          Pasta 1.1  257.127235  0.660464  0.00000  0.510725\n",
       "          Eggs  1.5  259.943863  0.440310  0.00000  0.561798\n",
       "          Pasta 1.5  202.649877  0.660464  0.00000  0.374532\n",
       "          Eggs  0.9  283.427037  0.733849  0.00000  0.561798\n",
       "          Pasta 0.9  294.421263  0.672088  0.46729  0.000000\n",
       "          Eggs  0.5  330.393386  1.320929  0.00000  0.561798\n",
       "          Pasta 0.5  294.421263  0.672088  0.46729  0.000000\n",
       "pricing   Eggs  1.1  282.839958  0.660464  0.00000  0.561798\n",
       "          Pasta 1.1  294.421263  0.672088  0.46729  0.000000\n",
       "          Eggs  1.5  303.974815  0.660464  0.00000  0.561798\n",
       "          Pasta 1.5  294.421263  0.672088  0.46729  0.000000\n",
       "          Eggs  0.9  272.272529  0.660464  0.00000  0.561798\n",
       "          Pasta 0.9  255.084334  0.660464  0.00000  0.561798\n",
       "          Eggs  0.5  251.137672  0.660464  0.00000  0.561798\n",
       "          Pasta 0.5  165.196693  0.660464  0.00000  0.561798"
      ]
     },
     "execution_count": 38,
     "metadata": {},
     "output_type": "execute_result"
    }
   ],
   "source": [
    "df.loc[:, df.sum() != 0]"
   ]
  },
  {
   "cell_type": "code",
   "execution_count": null,
   "metadata": {},
   "outputs": [],
   "source": []
  }
 ],
 "metadata": {
  "kernelspec": {
   "display_name": "Python 3",
   "language": "python",
   "name": "python3"
  },
  "language_info": {
   "codemirror_mode": {
    "name": "ipython",
    "version": 3
   },
   "file_extension": ".py",
   "mimetype": "text/x-python",
   "name": "python",
   "nbconvert_exporter": "python",
   "pygments_lexer": "ipython3",
   "version": "3.6.7"
  }
 },
 "nbformat": 4,
 "nbformat_minor": 2
}
