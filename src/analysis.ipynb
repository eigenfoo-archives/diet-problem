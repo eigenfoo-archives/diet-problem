{
 "cells": [
  {
   "cell_type": "markdown",
   "metadata": {},
   "source": [
    "# Analysis"
   ]
  },
  {
   "cell_type": "code",
   "execution_count": 1,
   "metadata": {},
   "outputs": [],
   "source": [
    "import numpy as np\n",
    "import pandas as pd\n",
    "import matplotlib.pyplot as plt"
   ]
  },
  {
   "cell_type": "code",
   "execution_count": 2,
   "metadata": {},
   "outputs": [],
   "source": [
    "df = pd.read_csv('all_countries.csv', index_col=[0, 1, 2])"
   ]
  },
  {
   "cell_type": "code",
   "execution_count": 3,
   "metadata": {},
   "outputs": [
    {
     "data": {
      "text/plain": [
       "True"
      ]
     },
     "execution_count": 3,
     "metadata": {},
     "output_type": "execute_result"
    }
   ],
   "source": [
    "# status == 0 if optimization algorithm terminates successfully\n",
    "# Looks like all markets can sustain a feasible diet!\n",
    "(df.status == 0).all()"
   ]
  },
  {
   "cell_type": "code",
   "execution_count": 4,
   "metadata": {},
   "outputs": [
    {
     "data": {
      "text/plain": [
       "Rice           870.005418\n",
       "Cowpeas        731.666667\n",
       "Maize          687.317314\n",
       "Wheat flour    256.027622\n",
       "Wheat          198.672103\n",
       "Bread          172.693666\n",
       "Sorghum        152.093625\n",
       "Millet          86.724138\n",
       "Potatoes        84.730687\n",
       "Beans           76.045643\n",
       "dtype: float64"
      ]
     },
     "execution_count": 4,
     "metadata": {},
     "output_type": "execute_result"
    }
   ],
   "source": [
    "# Most popular (or demanded) foods\n",
    "only_food = df.drop(['status', 'fun', 'protein_ineq', 'fat_ineq', 'carbs_ineq', 'fiber_ineq'],\n",
    "                    axis=1)\n",
    "\n",
    "only_food.sum().sort_values(ascending=False).head(10)"
   ]
  },
  {
   "cell_type": "code",
   "execution_count": 5,
   "metadata": {
    "scrolled": false
   },
   "outputs": [
    {
     "data": {
      "text/plain": [
       "0.5595238095238095"
      ]
     },
     "execution_count": 5,
     "metadata": {},
     "output_type": "execute_result"
    }
   ],
   "source": [
    "# More than half of all foods under consideration are not demanded at all!\n",
    "(only_food.sum() == 0).sum() / len(only_food.columns)"
   ]
  },
  {
   "cell_type": "code",
   "execution_count": 6,
   "metadata": {},
   "outputs": [
    {
     "data": {
      "text/html": [
       "<div>\n",
       "<style scoped>\n",
       "    .dataframe tbody tr th:only-of-type {\n",
       "        vertical-align: middle;\n",
       "    }\n",
       "\n",
       "    .dataframe tbody tr th {\n",
       "        vertical-align: top;\n",
       "    }\n",
       "\n",
       "    .dataframe thead th {\n",
       "        text-align: right;\n",
       "    }\n",
       "</style>\n",
       "<table border=\"1\" class=\"dataframe\">\n",
       "  <thead>\n",
       "    <tr style=\"text-align: right;\">\n",
       "      <th></th>\n",
       "      <th>protein_ineq</th>\n",
       "      <th>fat_ineq</th>\n",
       "      <th>carbs_ineq</th>\n",
       "      <th>fiber_ineq</th>\n",
       "    </tr>\n",
       "  </thead>\n",
       "  <tbody>\n",
       "    <tr>\n",
       "      <th>count</th>\n",
       "      <td>1457.000000</td>\n",
       "      <td>1457.000000</td>\n",
       "      <td>1457.000000</td>\n",
       "      <td>1457.000000</td>\n",
       "    </tr>\n",
       "    <tr>\n",
       "      <th>mean</th>\n",
       "      <td>132.909577</td>\n",
       "      <td>2.043848</td>\n",
       "      <td>666.252616</td>\n",
       "      <td>57.472182</td>\n",
       "    </tr>\n",
       "    <tr>\n",
       "      <th>std</th>\n",
       "      <td>290.955807</td>\n",
       "      <td>31.388328</td>\n",
       "      <td>1400.956025</td>\n",
       "      <td>79.246462</td>\n",
       "    </tr>\n",
       "    <tr>\n",
       "      <th>min</th>\n",
       "      <td>0.000000</td>\n",
       "      <td>0.000000</td>\n",
       "      <td>0.000000</td>\n",
       "      <td>0.000000</td>\n",
       "    </tr>\n",
       "    <tr>\n",
       "      <th>0%</th>\n",
       "      <td>0.000000</td>\n",
       "      <td>0.000000</td>\n",
       "      <td>0.000000</td>\n",
       "      <td>0.000000</td>\n",
       "    </tr>\n",
       "    <tr>\n",
       "      <th>10%</th>\n",
       "      <td>0.000000</td>\n",
       "      <td>0.000000</td>\n",
       "      <td>0.000000</td>\n",
       "      <td>0.000000</td>\n",
       "    </tr>\n",
       "    <tr>\n",
       "      <th>20%</th>\n",
       "      <td>34.102902</td>\n",
       "      <td>0.000000</td>\n",
       "      <td>0.000000</td>\n",
       "      <td>7.075476</td>\n",
       "    </tr>\n",
       "    <tr>\n",
       "      <th>30%</th>\n",
       "      <td>61.738703</td>\n",
       "      <td>0.000000</td>\n",
       "      <td>1.359184</td>\n",
       "      <td>7.672212</td>\n",
       "    </tr>\n",
       "    <tr>\n",
       "      <th>40%</th>\n",
       "      <td>61.738703</td>\n",
       "      <td>0.000000</td>\n",
       "      <td>261.778774</td>\n",
       "      <td>25.133966</td>\n",
       "    </tr>\n",
       "    <tr>\n",
       "      <th>50%</th>\n",
       "      <td>61.738703</td>\n",
       "      <td>0.000000</td>\n",
       "      <td>643.585462</td>\n",
       "      <td>59.500000</td>\n",
       "    </tr>\n",
       "    <tr>\n",
       "      <th>60%</th>\n",
       "      <td>61.738703</td>\n",
       "      <td>0.000000</td>\n",
       "      <td>643.585462</td>\n",
       "      <td>82.269155</td>\n",
       "    </tr>\n",
       "    <tr>\n",
       "      <th>70%</th>\n",
       "      <td>98.649825</td>\n",
       "      <td>0.000000</td>\n",
       "      <td>643.585462</td>\n",
       "      <td>82.269155</td>\n",
       "    </tr>\n",
       "    <tr>\n",
       "      <th>80%</th>\n",
       "      <td>147.887178</td>\n",
       "      <td>0.000000</td>\n",
       "      <td>643.585462</td>\n",
       "      <td>82.269155</td>\n",
       "    </tr>\n",
       "    <tr>\n",
       "      <th>90%</th>\n",
       "      <td>333.346457</td>\n",
       "      <td>0.000000</td>\n",
       "      <td>1876.732283</td>\n",
       "      <td>82.269155</td>\n",
       "    </tr>\n",
       "    <tr>\n",
       "      <th>max</th>\n",
       "      <td>2822.777778</td>\n",
       "      <td>735.000000</td>\n",
       "      <td>29784.707207</td>\n",
       "      <td>1600.000000</td>\n",
       "    </tr>\n",
       "  </tbody>\n",
       "</table>\n",
       "</div>"
      ],
      "text/plain": [
       "       protein_ineq     fat_ineq    carbs_ineq   fiber_ineq\n",
       "count   1457.000000  1457.000000   1457.000000  1457.000000\n",
       "mean     132.909577     2.043848    666.252616    57.472182\n",
       "std      290.955807    31.388328   1400.956025    79.246462\n",
       "min        0.000000     0.000000      0.000000     0.000000\n",
       "0%         0.000000     0.000000      0.000000     0.000000\n",
       "10%        0.000000     0.000000      0.000000     0.000000\n",
       "20%       34.102902     0.000000      0.000000     7.075476\n",
       "30%       61.738703     0.000000      1.359184     7.672212\n",
       "40%       61.738703     0.000000    261.778774    25.133966\n",
       "50%       61.738703     0.000000    643.585462    59.500000\n",
       "60%       61.738703     0.000000    643.585462    82.269155\n",
       "70%       98.649825     0.000000    643.585462    82.269155\n",
       "80%      147.887178     0.000000    643.585462    82.269155\n",
       "90%      333.346457     0.000000   1876.732283    82.269155\n",
       "max     2822.777778   735.000000  29784.707207  1600.000000"
      ]
     },
     "execution_count": 6,
     "metadata": {},
     "output_type": "execute_result"
    }
   ],
   "source": [
    "# More than 90% of markets do not have fat as an active constraint!\n",
    "# The corresponding number for protein, carbs and fiber are 20, 30 and 20, resp...\n",
    "df.iloc[:, -4:].describe(percentiles=[i/10 for i in range(10)])"
   ]
  },
  {
   "cell_type": "code",
   "execution_count": null,
   "metadata": {},
   "outputs": [],
   "source": []
  },
  {
   "cell_type": "code",
   "execution_count": null,
   "metadata": {},
   "outputs": [],
   "source": []
  },
  {
   "cell_type": "markdown",
   "metadata": {},
   "source": [
    "## Looking at some specific markets..."
   ]
  },
  {
   "cell_type": "code",
   "execution_count": 36,
   "metadata": {},
   "outputs": [
    {
     "data": {
      "text/plain": [
       "fun             145.716052\n",
       "Eggs              0.131893\n",
       "Pasta             0.233460\n",
       "Wheat flour       0.175918\n",
       "protein_ineq     67.810816\n",
       "Name: (Armenia, Lori, Armavir), dtype: float64"
      ]
     },
     "execution_count": 36,
     "metadata": {},
     "output_type": "execute_result"
    }
   ],
   "source": [
    "# Armavir in Lori, Armenia looks pretty normal...\n",
    "x = df.loc[('Armenia', 'Lori', 'Armavir')]\n",
    "x.loc[x != 0]"
   ]
  },
  {
   "cell_type": "code",
   "execution_count": 37,
   "metadata": {},
   "outputs": [
    {
     "data": {
      "text/plain": [
       "Text(0,0.5,'')"
      ]
     },
     "execution_count": 37,
     "metadata": {},
     "output_type": "execute_result"
    },
    {
     "data": {
      "image/png": "[encoded data removed]",
      "text/plain": [
       "<Figure size 576x576 with 1 Axes>"
      ]
     },
     "metadata": {},
     "output_type": "display_data"
    }
   ],
   "source": [
    "x = x.drop(['status', 'fun', 'protein_ineq', 'fat_ineq', 'carbs_ineq', 'fiber_ineq'])\n",
    "(x / x.sum()).plot.pie(figsize=[8, 8])\n",
    "plt.title('Efficient Diet in Armavir, Lori, Armenia')\n",
    "plt.ylabel('')"
   ]
  },
  {
   "cell_type": "code",
   "execution_count": 38,
   "metadata": {},
   "outputs": [
    {
     "data": {
      "text/plain": [
       "fun             108124.999997\n",
       "Beans               25.000000\n",
       "protein_ineq       400.000000\n",
       "fat_ineq           735.000000\n",
       "carbs_ineq         400.000000\n",
       "Name: (Colombia, Antioquia, San Vicente), dtype: float64"
      ]
     },
     "execution_count": 38,
     "metadata": {},
     "output_type": "execute_result"
    }
   ],
   "source": [
    "# San Vicente in Antioquia, Colombia only sells beans, so the daily diet is 25kg of beans!!\n",
    "x = df.loc[('Colombia', 'Antioquia', 'San Vicente')]\n",
    "x.loc[x != 0]"
   ]
  },
  {
   "cell_type": "code",
   "execution_count": 39,
   "metadata": {},
   "outputs": [
    {
     "data": {
      "text/plain": [
       "Text(0,0.5,'')"
      ]
     },
     "execution_count": 39,
     "metadata": {},
     "output_type": "execute_result"
    },
    {
     "data": {
      "image/png": "[encoded data removed]",
      "text/plain": [
       "<Figure size 576x576 with 1 Axes>"
      ]
     },
     "metadata": {},
     "output_type": "display_data"
    }
   ],
   "source": [
    "x = x.drop(['status', 'fun', 'protein_ineq', 'fat_ineq', 'carbs_ineq', 'fiber_ineq'])\n",
    "(x / x.sum()).plot.pie(figsize=[8, 8])\n",
    "plt.title('Efficient Diet in San Vicente, Antioquia, Colombia')\n",
    "plt.ylabel('')"
   ]
  },
  {
   "cell_type": "code",
   "execution_count": 40,
   "metadata": {},
   "outputs": [],
   "source": [
    "# Market has only: onions, potatoes, rice, tomatoes.\n",
    "# It is interesting that \n",
    "x = df.loc[('Myanmar', 'Kachin', 'Sadung')]"
   ]
  },
  {
   "cell_type": "code",
   "execution_count": 41,
   "metadata": {},
   "outputs": [
    {
     "data": {
      "text/plain": [
       "Text(0,0.5,'')"
      ]
     },
     "execution_count": 41,
     "metadata": {},
     "output_type": "execute_result"
    },
    {
     "data": {
      "image/png": "[encoded data removed]",
      "text/plain": [
       "<Figure size 576x576 with 1 Axes>"
      ]
     },
     "metadata": {},
     "output_type": "display_data"
    }
   ],
   "source": [
    "x = x.drop(['status', 'fun', 'protein_ineq', 'fat_ineq', 'carbs_ineq', 'fiber_ineq'])\n",
    "(x / x.sum()).plot.pie(figsize=[8, 8])\n",
    "plt.title('Efficient Diet in Sadung, Kachin, Myanmar')\n",
    "plt.ylabel('')"
   ]
  },
  {
   "cell_type": "code",
   "execution_count": null,
   "metadata": {},
   "outputs": [],
   "source": []
  }
 ],
 "metadata": {
  "kernelspec": {
   "display_name": "Python 3",
   "language": "python",
   "name": "python3"
  },
  "language_info": {
   "codemirror_mode": {
    "name": "ipython",
    "version": 3
   },
   "file_extension": ".py",
   "mimetype": "text/x-python",
   "name": "python",
   "nbconvert_exporter": "python",
   "pygments_lexer": "ipython3",
   "version": "3.6.7"
  }
 },
 "nbformat": 4,
 "nbformat_minor": 2
}
